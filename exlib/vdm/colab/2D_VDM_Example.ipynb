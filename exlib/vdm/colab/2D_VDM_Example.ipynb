{
  "nbformat": 4,
  "nbformat_minor": 0,
  "metadata": {
    "colab": {
      "provenance": [],
      "collapsed_sections": [
        "TbgqKXrQPxVf"
      ]
    },
    "kernelspec": {
      "name": "python3",
      "display_name": "Python 3"
    },
    "language_info": {
      "name": "python"
    },
    "accelerator": "TPU",
    "gpuClass": "standard",
    "widgets": {
      "application/vnd.jupyter.widget-state+json": {
        "dde22095793546bdb036f94f861e8c58": {
          "model_module": "@jupyter-widgets/controls",
          "model_name": "HBoxModel",
          "model_module_version": "1.5.0",
          "state": {
            "_dom_classes": [],
            "_model_module": "@jupyter-widgets/controls",
            "_model_module_version": "1.5.0",
            "_model_name": "HBoxModel",
            "_view_count": null,
            "_view_module": "@jupyter-widgets/controls",
            "_view_module_version": "1.5.0",
            "_view_name": "HBoxView",
            "box_style": "",
            "children": [
              "IPY_MODEL_92e33bde08d94d03ad8eec5890687bcf",
              "IPY_MODEL_f5f84e6f281740cc8a871a68ba56f6c2",
              "IPY_MODEL_4bf3cfef6b854d4e96f8ab3fdb66dc6a"
            ],
            "layout": "IPY_MODEL_cbcec2b2f78e47f684b80fde30335810"
          }
        },
        "92e33bde08d94d03ad8eec5890687bcf": {
          "model_module": "@jupyter-widgets/controls",
          "model_name": "HTMLModel",
          "model_module_version": "1.5.0",
          "state": {
            "_dom_classes": [],
            "_model_module": "@jupyter-widgets/controls",
            "_model_module_version": "1.5.0",
            "_model_name": "HTMLModel",
            "_view_count": null,
            "_view_module": "@jupyter-widgets/controls",
            "_view_module_version": "1.5.0",
            "_view_name": "HTMLView",
            "description": "",
            "description_tooltip": null,
            "layout": "IPY_MODEL_9b1466071e1446e9a5f85a2c4a83c5c1",
            "placeholder": "​",
            "style": "IPY_MODEL_893900dc63cb42dbb174bc5d7e247777",
            "value": "100%"
          }
        },
        "f5f84e6f281740cc8a871a68ba56f6c2": {
          "model_module": "@jupyter-widgets/controls",
          "model_name": "FloatProgressModel",
          "model_module_version": "1.5.0",
          "state": {
            "_dom_classes": [],
            "_model_module": "@jupyter-widgets/controls",
            "_model_module_version": "1.5.0",
            "_model_name": "FloatProgressModel",
            "_view_count": null,
            "_view_module": "@jupyter-widgets/controls",
            "_view_module_version": "1.5.0",
            "_view_name": "ProgressView",
            "bar_style": "success",
            "description": "",
            "description_tooltip": null,
            "layout": "IPY_MODEL_74947632b15c444a811e01d6da2e1efb",
            "max": 20000,
            "min": 0,
            "orientation": "horizontal",
            "style": "IPY_MODEL_6961ab63add94e568dae5bf581a3bb98",
            "value": 20000
          }
        },
        "4bf3cfef6b854d4e96f8ab3fdb66dc6a": {
          "model_module": "@jupyter-widgets/controls",
          "model_name": "HTMLModel",
          "model_module_version": "1.5.0",
          "state": {
            "_dom_classes": [],
            "_model_module": "@jupyter-widgets/controls",
            "_model_module_version": "1.5.0",
            "_model_name": "HTMLModel",
            "_view_count": null,
            "_view_module": "@jupyter-widgets/controls",
            "_view_module_version": "1.5.0",
            "_view_name": "HTMLView",
            "description": "",
            "description_tooltip": null,
            "layout": "IPY_MODEL_4512c6935b264a629683c22709a49caf",
            "placeholder": "​",
            "style": "IPY_MODEL_69147b7d99d8477191656101313a8767",
            "value": " 20000/20000 [19:29&lt;00:00, 16.22it/s]"
          }
        },
        "cbcec2b2f78e47f684b80fde30335810": {
          "model_module": "@jupyter-widgets/base",
          "model_name": "LayoutModel",
          "model_module_version": "1.2.0",
          "state": {
            "_model_module": "@jupyter-widgets/base",
            "_model_module_version": "1.2.0",
            "_model_name": "LayoutModel",
            "_view_count": null,
            "_view_module": "@jupyter-widgets/base",
            "_view_module_version": "1.2.0",
            "_view_name": "LayoutView",
            "align_content": null,
            "align_items": null,
            "align_self": null,
            "border": null,
            "bottom": null,
            "display": null,
            "flex": null,
            "flex_flow": null,
            "grid_area": null,
            "grid_auto_columns": null,
            "grid_auto_flow": null,
            "grid_auto_rows": null,
            "grid_column": null,
            "grid_gap": null,
            "grid_row": null,
            "grid_template_areas": null,
            "grid_template_columns": null,
            "grid_template_rows": null,
            "height": null,
            "justify_content": null,
            "justify_items": null,
            "left": null,
            "margin": null,
            "max_height": null,
            "max_width": null,
            "min_height": null,
            "min_width": null,
            "object_fit": null,
            "object_position": null,
            "order": null,
            "overflow": null,
            "overflow_x": null,
            "overflow_y": null,
            "padding": null,
            "right": null,
            "top": null,
            "visibility": null,
            "width": null
          }
        },
        "9b1466071e1446e9a5f85a2c4a83c5c1": {
          "model_module": "@jupyter-widgets/base",
          "model_name": "LayoutModel",
          "model_module_version": "1.2.0",
          "state": {
            "_model_module": "@jupyter-widgets/base",
            "_model_module_version": "1.2.0",
            "_model_name": "LayoutModel",
            "_view_count": null,
            "_view_module": "@jupyter-widgets/base",
            "_view_module_version": "1.2.0",
            "_view_name": "LayoutView",
            "align_content": null,
            "align_items": null,
            "align_self": null,
            "border": null,
            "bottom": null,
            "display": null,
            "flex": null,
            "flex_flow": null,
            "grid_area": null,
            "grid_auto_columns": null,
            "grid_auto_flow": null,
            "grid_auto_rows": null,
            "grid_column": null,
            "grid_gap": null,
            "grid_row": null,
            "grid_template_areas": null,
            "grid_template_columns": null,
            "grid_template_rows": null,
            "height": null,
            "justify_content": null,
            "justify_items": null,
            "left": null,
            "margin": null,
            "max_height": null,
            "max_width": null,
            "min_height": null,
            "min_width": null,
            "object_fit": null,
            "object_position": null,
            "order": null,
            "overflow": null,
            "overflow_x": null,
            "overflow_y": null,
            "padding": null,
            "right": null,
            "top": null,
            "visibility": null,
            "width": null
          }
        },
        "893900dc63cb42dbb174bc5d7e247777": {
          "model_module": "@jupyter-widgets/controls",
          "model_name": "DescriptionStyleModel",
          "model_module_version": "1.5.0",
          "state": {
            "_model_module": "@jupyter-widgets/controls",
            "_model_module_version": "1.5.0",
            "_model_name": "DescriptionStyleModel",
            "_view_count": null,
            "_view_module": "@jupyter-widgets/base",
            "_view_module_version": "1.2.0",
            "_view_name": "StyleView",
            "description_width": ""
          }
        },
        "74947632b15c444a811e01d6da2e1efb": {
          "model_module": "@jupyter-widgets/base",
          "model_name": "LayoutModel",
          "model_module_version": "1.2.0",
          "state": {
            "_model_module": "@jupyter-widgets/base",
            "_model_module_version": "1.2.0",
            "_model_name": "LayoutModel",
            "_view_count": null,
            "_view_module": "@jupyter-widgets/base",
            "_view_module_version": "1.2.0",
            "_view_name": "LayoutView",
            "align_content": null,
            "align_items": null,
            "align_self": null,
            "border": null,
            "bottom": null,
            "display": null,
            "flex": null,
            "flex_flow": null,
            "grid_area": null,
            "grid_auto_columns": null,
            "grid_auto_flow": null,
            "grid_auto_rows": null,
            "grid_column": null,
            "grid_gap": null,
            "grid_row": null,
            "grid_template_areas": null,
            "grid_template_columns": null,
            "grid_template_rows": null,
            "height": null,
            "justify_content": null,
            "justify_items": null,
            "left": null,
            "margin": null,
            "max_height": null,
            "max_width": null,
            "min_height": null,
            "min_width": null,
            "object_fit": null,
            "object_position": null,
            "order": null,
            "overflow": null,
            "overflow_x": null,
            "overflow_y": null,
            "padding": null,
            "right": null,
            "top": null,
            "visibility": null,
            "width": null
          }
        },
        "6961ab63add94e568dae5bf581a3bb98": {
          "model_module": "@jupyter-widgets/controls",
          "model_name": "ProgressStyleModel",
          "model_module_version": "1.5.0",
          "state": {
            "_model_module": "@jupyter-widgets/controls",
            "_model_module_version": "1.5.0",
            "_model_name": "ProgressStyleModel",
            "_view_count": null,
            "_view_module": "@jupyter-widgets/base",
            "_view_module_version": "1.2.0",
            "_view_name": "StyleView",
            "bar_color": null,
            "description_width": ""
          }
        },
        "4512c6935b264a629683c22709a49caf": {
          "model_module": "@jupyter-widgets/base",
          "model_name": "LayoutModel",
          "model_module_version": "1.2.0",
          "state": {
            "_model_module": "@jupyter-widgets/base",
            "_model_module_version": "1.2.0",
            "_model_name": "LayoutModel",
            "_view_count": null,
            "_view_module": "@jupyter-widgets/base",
            "_view_module_version": "1.2.0",
            "_view_name": "LayoutView",
            "align_content": null,
            "align_items": null,
            "align_self": null,
            "border": null,
            "bottom": null,
            "display": null,
            "flex": null,
            "flex_flow": null,
            "grid_area": null,
            "grid_auto_columns": null,
            "grid_auto_flow": null,
            "grid_auto_rows": null,
            "grid_column": null,
            "grid_gap": null,
            "grid_row": null,
            "grid_template_areas": null,
            "grid_template_columns": null,
            "grid_template_rows": null,
            "height": null,
            "justify_content": null,
            "justify_items": null,
            "left": null,
            "margin": null,
            "max_height": null,
            "max_width": null,
            "min_height": null,
            "min_width": null,
            "object_fit": null,
            "object_position": null,
            "order": null,
            "overflow": null,
            "overflow_x": null,
            "overflow_y": null,
            "padding": null,
            "right": null,
            "top": null,
            "visibility": null,
            "width": null
          }
        },
        "69147b7d99d8477191656101313a8767": {
          "model_module": "@jupyter-widgets/controls",
          "model_name": "DescriptionStyleModel",
          "model_module_version": "1.5.0",
          "state": {
            "_model_module": "@jupyter-widgets/controls",
            "_model_module_version": "1.5.0",
            "_model_name": "DescriptionStyleModel",
            "_view_count": null,
            "_view_module": "@jupyter-widgets/base",
            "_view_module_version": "1.2.0",
            "_view_name": "StyleView",
            "description_width": ""
          }
        },
        "364259398fa5480db83dd549db620376": {
          "model_module": "@jupyter-widgets/controls",
          "model_name": "HBoxModel",
          "model_module_version": "1.5.0",
          "state": {
            "_dom_classes": [],
            "_model_module": "@jupyter-widgets/controls",
            "_model_module_version": "1.5.0",
            "_model_name": "HBoxModel",
            "_view_count": null,
            "_view_module": "@jupyter-widgets/controls",
            "_view_module_version": "1.5.0",
            "_view_name": "HBoxView",
            "box_style": "",
            "children": [
              "IPY_MODEL_47c70a609b5044218abf06734dea9bb4",
              "IPY_MODEL_9d08668b15274654bc2fb870f4f5f394",
              "IPY_MODEL_66f508dcc9024a6192dcf6a5c5be1a76"
            ],
            "layout": "IPY_MODEL_6ca9685d5f5344b9baddfdd7ed446de4"
          }
        },
        "47c70a609b5044218abf06734dea9bb4": {
          "model_module": "@jupyter-widgets/controls",
          "model_name": "HTMLModel",
          "model_module_version": "1.5.0",
          "state": {
            "_dom_classes": [],
            "_model_module": "@jupyter-widgets/controls",
            "_model_module_version": "1.5.0",
            "_model_name": "HTMLModel",
            "_view_count": null,
            "_view_module": "@jupyter-widgets/controls",
            "_view_module_version": "1.5.0",
            "_view_name": "HTMLView",
            "description": "",
            "description_tooltip": null,
            "layout": "IPY_MODEL_ceb5d692a2474e48809782c0cb57edff",
            "placeholder": "​",
            "style": "IPY_MODEL_5858dc622b184864bfb9d0507fa42aca",
            "value": "100%"
          }
        },
        "9d08668b15274654bc2fb870f4f5f394": {
          "model_module": "@jupyter-widgets/controls",
          "model_name": "FloatProgressModel",
          "model_module_version": "1.5.0",
          "state": {
            "_dom_classes": [],
            "_model_module": "@jupyter-widgets/controls",
            "_model_module_version": "1.5.0",
            "_model_name": "FloatProgressModel",
            "_view_count": null,
            "_view_module": "@jupyter-widgets/controls",
            "_view_module_version": "1.5.0",
            "_view_name": "ProgressView",
            "bar_style": "success",
            "description": "",
            "description_tooltip": null,
            "layout": "IPY_MODEL_16c7afd6a23f4ad7a3165e244ca7b757",
            "max": 200,
            "min": 0,
            "orientation": "horizontal",
            "style": "IPY_MODEL_14eecb0d266248f781629ab328673ce7",
            "value": 200
          }
        },
        "66f508dcc9024a6192dcf6a5c5be1a76": {
          "model_module": "@jupyter-widgets/controls",
          "model_name": "HTMLModel",
          "model_module_version": "1.5.0",
          "state": {
            "_dom_classes": [],
            "_model_module": "@jupyter-widgets/controls",
            "_model_module_version": "1.5.0",
            "_model_name": "HTMLModel",
            "_view_count": null,
            "_view_module": "@jupyter-widgets/controls",
            "_view_module_version": "1.5.0",
            "_view_name": "HTMLView",
            "description": "",
            "description_tooltip": null,
            "layout": "IPY_MODEL_310758e0cafa4b408fe19907aa5b16a5",
            "placeholder": "​",
            "style": "IPY_MODEL_8908f155f4ad4beb9a5b23b367f03def",
            "value": " 200/200 [00:27&lt;00:00,  7.23it/s]"
          }
        },
        "6ca9685d5f5344b9baddfdd7ed446de4": {
          "model_module": "@jupyter-widgets/base",
          "model_name": "LayoutModel",
          "model_module_version": "1.2.0",
          "state": {
            "_model_module": "@jupyter-widgets/base",
            "_model_module_version": "1.2.0",
            "_model_name": "LayoutModel",
            "_view_count": null,
            "_view_module": "@jupyter-widgets/base",
            "_view_module_version": "1.2.0",
            "_view_name": "LayoutView",
            "align_content": null,
            "align_items": null,
            "align_self": null,
            "border": null,
            "bottom": null,
            "display": null,
            "flex": null,
            "flex_flow": null,
            "grid_area": null,
            "grid_auto_columns": null,
            "grid_auto_flow": null,
            "grid_auto_rows": null,
            "grid_column": null,
            "grid_gap": null,
            "grid_row": null,
            "grid_template_areas": null,
            "grid_template_columns": null,
            "grid_template_rows": null,
            "height": null,
            "justify_content": null,
            "justify_items": null,
            "left": null,
            "margin": null,
            "max_height": null,
            "max_width": null,
            "min_height": null,
            "min_width": null,
            "object_fit": null,
            "object_position": null,
            "order": null,
            "overflow": null,
            "overflow_x": null,
            "overflow_y": null,
            "padding": null,
            "right": null,
            "top": null,
            "visibility": null,
            "width": null
          }
        },
        "ceb5d692a2474e48809782c0cb57edff": {
          "model_module": "@jupyter-widgets/base",
          "model_name": "LayoutModel",
          "model_module_version": "1.2.0",
          "state": {
            "_model_module": "@jupyter-widgets/base",
            "_model_module_version": "1.2.0",
            "_model_name": "LayoutModel",
            "_view_count": null,
            "_view_module": "@jupyter-widgets/base",
            "_view_module_version": "1.2.0",
            "_view_name": "LayoutView",
            "align_content": null,
            "align_items": null,
            "align_self": null,
            "border": null,
            "bottom": null,
            "display": null,
            "flex": null,
            "flex_flow": null,
            "grid_area": null,
            "grid_auto_columns": null,
            "grid_auto_flow": null,
            "grid_auto_rows": null,
            "grid_column": null,
            "grid_gap": null,
            "grid_row": null,
            "grid_template_areas": null,
            "grid_template_columns": null,
            "grid_template_rows": null,
            "height": null,
            "justify_content": null,
            "justify_items": null,
            "left": null,
            "margin": null,
            "max_height": null,
            "max_width": null,
            "min_height": null,
            "min_width": null,
            "object_fit": null,
            "object_position": null,
            "order": null,
            "overflow": null,
            "overflow_x": null,
            "overflow_y": null,
            "padding": null,
            "right": null,
            "top": null,
            "visibility": null,
            "width": null
          }
        },
        "5858dc622b184864bfb9d0507fa42aca": {
          "model_module": "@jupyter-widgets/controls",
          "model_name": "DescriptionStyleModel",
          "model_module_version": "1.5.0",
          "state": {
            "_model_module": "@jupyter-widgets/controls",
            "_model_module_version": "1.5.0",
            "_model_name": "DescriptionStyleModel",
            "_view_count": null,
            "_view_module": "@jupyter-widgets/base",
            "_view_module_version": "1.2.0",
            "_view_name": "StyleView",
            "description_width": ""
          }
        },
        "16c7afd6a23f4ad7a3165e244ca7b757": {
          "model_module": "@jupyter-widgets/base",
          "model_name": "LayoutModel",
          "model_module_version": "1.2.0",
          "state": {
            "_model_module": "@jupyter-widgets/base",
            "_model_module_version": "1.2.0",
            "_model_name": "LayoutModel",
            "_view_count": null,
            "_view_module": "@jupyter-widgets/base",
            "_view_module_version": "1.2.0",
            "_view_name": "LayoutView",
            "align_content": null,
            "align_items": null,
            "align_self": null,
            "border": null,
            "bottom": null,
            "display": null,
            "flex": null,
            "flex_flow": null,
            "grid_area": null,
            "grid_auto_columns": null,
            "grid_auto_flow": null,
            "grid_auto_rows": null,
            "grid_column": null,
            "grid_gap": null,
            "grid_row": null,
            "grid_template_areas": null,
            "grid_template_columns": null,
            "grid_template_rows": null,
            "height": null,
            "justify_content": null,
            "justify_items": null,
            "left": null,
            "margin": null,
            "max_height": null,
            "max_width": null,
            "min_height": null,
            "min_width": null,
            "object_fit": null,
            "object_position": null,
            "order": null,
            "overflow": null,
            "overflow_x": null,
            "overflow_y": null,
            "padding": null,
            "right": null,
            "top": null,
            "visibility": null,
            "width": null
          }
        },
        "14eecb0d266248f781629ab328673ce7": {
          "model_module": "@jupyter-widgets/controls",
          "model_name": "ProgressStyleModel",
          "model_module_version": "1.5.0",
          "state": {
            "_model_module": "@jupyter-widgets/controls",
            "_model_module_version": "1.5.0",
            "_model_name": "ProgressStyleModel",
            "_view_count": null,
            "_view_module": "@jupyter-widgets/base",
            "_view_module_version": "1.2.0",
            "_view_name": "StyleView",
            "bar_color": null,
            "description_width": ""
          }
        },
        "310758e0cafa4b408fe19907aa5b16a5": {
          "model_module": "@jupyter-widgets/base",
          "model_name": "LayoutModel",
          "model_module_version": "1.2.0",
          "state": {
            "_model_module": "@jupyter-widgets/base",
            "_model_module_version": "1.2.0",
            "_model_name": "LayoutModel",
            "_view_count": null,
            "_view_module": "@jupyter-widgets/base",
            "_view_module_version": "1.2.0",
            "_view_name": "LayoutView",
            "align_content": null,
            "align_items": null,
            "align_self": null,
            "border": null,
            "bottom": null,
            "display": null,
            "flex": null,
            "flex_flow": null,
            "grid_area": null,
            "grid_auto_columns": null,
            "grid_auto_flow": null,
            "grid_auto_rows": null,
            "grid_column": null,
            "grid_gap": null,
            "grid_row": null,
            "grid_template_areas": null,
            "grid_template_columns": null,
            "grid_template_rows": null,
            "height": null,
            "justify_content": null,
            "justify_items": null,
            "left": null,
            "margin": null,
            "max_height": null,
            "max_width": null,
            "min_height": null,
            "min_width": null,
            "object_fit": null,
            "object_position": null,
            "order": null,
            "overflow": null,
            "overflow_x": null,
            "overflow_y": null,
            "padding": null,
            "right": null,
            "top": null,
            "visibility": null,
            "width": null
          }
        },
        "8908f155f4ad4beb9a5b23b367f03def": {
          "model_module": "@jupyter-widgets/controls",
          "model_name": "DescriptionStyleModel",
          "model_module_version": "1.5.0",
          "state": {
            "_model_module": "@jupyter-widgets/controls",
            "_model_module_version": "1.5.0",
            "_model_name": "DescriptionStyleModel",
            "_view_count": null,
            "_view_module": "@jupyter-widgets/base",
            "_view_module_version": "1.2.0",
            "_view_name": "StyleView",
            "description_width": ""
          }
        }
      }
    }
  },
  "cells": [
    {
      "cell_type": "markdown",
      "source": [
        "#2D Example of Variational Diffusion Models (VDM)\n",
        "\n",
        "Paper: https://arxiv.org/abs/2107.00630\n",
        "\n",
        "This is a simple implementation of VDM for educational purposes.\n",
        " - Data: 2D 'swirl' data, in 8-bit (uint8) precision.\n",
        " - Score network: Fully connected MLP.\n",
        "\n",
        "Note that is mainly for educational purposes: using VDM for 2D data is typically overkill, since it takes about 20 minutes to train this model, where for such 2D data something simpler like a mixture-of-Gaussians would give you similar results with much less compute."
      ],
      "metadata": {
        "id": "aM7FPju9cNDW"
      }
    },
    {
      "cell_type": "code",
      "source": [
        "# Install libraries\n",
        "%pip install flax &> /dev/null"
      ],
      "metadata": {
        "collapsed": true,
        "id": "LeAqOHgn23wf"
      },
      "execution_count": null,
      "outputs": []
    },
    {
      "cell_type": "code",
      "source": [
        "# Import libraries\n",
        "import numpy as np\n",
        "import matplotlib.pyplot as plt\n",
        "import jax\n",
        "import jax.numpy as jnp\n",
        "from flax import linen as nn\n",
        "import optax\n",
        "%matplotlib inline\n",
        "import time\n",
        "import pylab as pl\n",
        "from IPython import display\n",
        "from tqdm.notebook import trange, tqdm\n",
        "from google.colab import files"
      ],
      "metadata": {
        "id": "ZMvtboY04XCc"
      },
      "execution_count": null,
      "outputs": []
    },
    {
      "cell_type": "markdown",
      "source": [
        "# Define hyper-parameters"
      ],
      "metadata": {
        "id": "LeFBihncPzcH"
      }
    },
    {
      "cell_type": "code",
      "source": [
        "# Data hyper-parameters\n",
        "N = 1024                 # nr of datapoints\n",
        "\n",
        "# Model hyper-parameters\n",
        "init_gamma_0 = -13.3    # initial gamma_0\n",
        "init_gamma_1 = 5.       # initial gamma_1\n",
        "hidden_units = 512\n",
        "T_train = 0                   # nr of timesteps in model; T=0 means continuous-time\n",
        "vocab_size = 256\n",
        "\n",
        "# Optimization hyper-parameters\n",
        "learning_rate = 3e-3\n",
        "num_train_steps = 20000   # nr of training steps\n",
        "\n",
        "rng = jax.random.PRNGKey(seed=0)\n",
        "np.random.seed(0)"
      ],
      "metadata": {
        "id": "1TnTRIif3SBU",
        "colab": {
          "base_uri": "https://localhost:8080/"
        },
        "outputId": "ae73d472-33aa-4d16-8394-3c17101f36b0"
      },
      "execution_count": null,
      "outputs": [
        {
          "output_type": "stream",
          "name": "stderr",
          "text": [
            "WARNING:absl:No GPU/TPU found, falling back to CPU. (Set TF_CPP_MIN_LOG_LEVEL=0 and rerun for more info.)\n"
          ]
        }
      ]
    },
    {
      "cell_type": "markdown",
      "source": [
        "# Create dataset"
      ],
      "metadata": {
        "id": "TbgqKXrQPxVf"
      }
    },
    {
      "cell_type": "code",
      "source": [
        "# Make 8-bit swirl dataset\n",
        "theta = np.sqrt(np.random.rand(N))*3*np.pi # np.linspace(0,2*pi,100)\n",
        "r_a = 2*theta + np.pi\n",
        "x = np.array([np.cos(theta)*r_a, np.sin(theta)*r_a]).T\n",
        "# We use 8 bits, to make this a bit similar to image data, which has 8-bit\n",
        "# color channels.\n",
        "x = 4*(x + .25*np.random.randn(N,2) + 30)\n",
        "x = x.astype('uint8')\n",
        "plt.scatter(x[:,0],x[:,1], alpha=0.1)\n",
        "plt.show()\n",
        "\n",
        "# Get mean and standard deviation of 'x'\n",
        "x_mean = x.mean(axis=0)\n",
        "x_std = x.std(axis=0)"
      ],
      "metadata": {
        "colab": {
          "base_uri": "https://localhost:8080/"
        },
        "id": "HsxvKisMyIs3",
        "outputId": "1dfedb65-6d2c-425f-8370-f61e26a6314a"
      },
      "execution_count": null,
      "outputs": [
        {
          "output_type": "display_data",
          "data": {
            "text/plain": [
              "<Figure size 432x288 with 1 Axes>"
            ],
            "image/png": "[encoded data removed]"
          },
          "metadata": {
            "needs_background": "light"
          }
        }
      ]
    },
    {
      "cell_type": "markdown",
      "source": [
        "# Define model"
      ],
      "metadata": {
        "id": "uc3RNsTpPuWF"
      }
    },
    {
      "cell_type": "code",
      "source": [
        "# Define learnable model\n",
        "class Model(nn.Module):\n",
        "\n",
        "  def setup(self):\n",
        "    self.score_net = ScoreNetwork()\n",
        "    self.noise_schedule = NoiseSchedule()\n",
        "\n",
        "  def __call__(self, x, t):\n",
        "    gamma_t = self.noise_schedule(t)\n",
        "    return self.score_net(x, gamma_t)\n",
        "  \n",
        "  def score(self, x, t):\n",
        "    return self.score_net(x, t)\n",
        "  \n",
        "  def gamma(self, t):\n",
        "    return self.noise_schedule(t)\n",
        "\n",
        "# A fully-connected MLP as the score network\n",
        "class ScoreNetwork(nn.Module):\n",
        "\n",
        "  def setup(self):\n",
        "    self.dense1 = nn.Dense(hidden_units)\n",
        "    self.dense2 = nn.Dense(hidden_units)\n",
        "    self.dense3 = nn.Dense(2)\n",
        "    self.ff = Base2FourierFeatures()\n",
        "\n",
        "  def __call__(self, z, gamma_t):\n",
        "\n",
        "    # Normalize gamma_t\n",
        "    lb = init_gamma_0\n",
        "    ub = init_gamma_1\n",
        "    gamma_t_norm = ((gamma_t - lb) / (ub - lb))*2-1  # ---> [-1,+1]\n",
        "\n",
        "    # Concatenate normalized gamma_t as extra feature\n",
        "    h = jnp.concatenate([z, gamma_t_norm[:, None]], axis=1)\n",
        "\n",
        "    # append Fourier features\n",
        "    h_ff = self.ff(h)\n",
        "    h = jnp.concatenate([h, h_ff], axis=1)\n",
        "\n",
        "    # Three dense layers\n",
        "    h = nn.swish(self.dense1(h))\n",
        "    h = nn.swish(self.dense2(h))\n",
        "    h = self.dense3(h)\n",
        "\n",
        "    return h\n",
        "\n",
        "class Base2FourierFeatures(nn.Module):\n",
        "  # Create Base 2 Fourier features\n",
        "  @nn.compact\n",
        "  def __call__(self, inputs):\n",
        "    freqs = jnp.asarray(range(8), dtype=inputs.dtype) #[0, 1, ..., 7]\n",
        "    w = 2.**freqs * 2 * jnp.pi\n",
        "    w = jnp.tile(w[None, :], (1, inputs.shape[-1]))\n",
        "    h = jnp.repeat(inputs, len(freqs), axis=-1)\n",
        "    h *= w\n",
        "    h = jnp.concatenate([jnp.sin(h), jnp.cos(h)], axis=-1)\n",
        "    return h\n",
        "\n",
        "def constant_init(value, dtype='float32'):\n",
        "  def _init(key, shape, dtype=dtype):\n",
        "    return value * jnp.ones(shape, dtype)\n",
        "  return _init\n",
        "\n",
        "# Simple scalar noise schedule, i.e. gamma(t) in the paper:\n",
        "# gamma(t) = abs(w) * t + b\n",
        "class NoiseSchedule(nn.Module):\n",
        "\n",
        "  def setup(self):\n",
        "    init_bias = init_gamma_0\n",
        "    init_scale = init_gamma_1 - init_gamma_0\n",
        "    self.w = self.param('w', constant_init(init_scale), (1,))\n",
        "    self.b = self.param('b', constant_init(init_bias), (1,))\n",
        "\n",
        "  def __call__(self, t):\n",
        "    return abs(self.w) * t + self.b\n",
        "\n",
        "def data_encode(x):\n",
        "  # This transforms x from discrete values (0, 1, ...)\n",
        "  # to the domain (-1,1).\n",
        "  # Rounding here just a safeguard to ensure the input is discrete\n",
        "  # (although typically, x is a discrete variable such as uint8)\n",
        "  x = x.round()\n",
        "  return (x-x_mean)/x_std\n",
        "\n",
        "def data_decode(z_0_rescaled, gamma_0):\n",
        "  # Logits are exact if there are no dependencies between dimensions of x\n",
        "  x_vals = jnp.arange(0, vocab_size)[:, None]\n",
        "  x_vals = jnp.repeat(x_vals, z_0_rescaled.shape[-1], 1)\n",
        "  x_vals = data_encode(x_vals).transpose([1, 0])[None, :, :]\n",
        "  inv_stdev = jnp.exp(-0.5 * gamma_0[..., None])\n",
        "  logits = -0.5 * jnp.square((z_0_rescaled[..., None] - x_vals) * inv_stdev)\n",
        "\n",
        "  logprobs = jax.nn.log_softmax(logits)\n",
        "  return logprobs\n",
        "\n",
        "def data_logprob(x, z_0_rescaled, gamma_0):\n",
        "  x = x.round().astype('int32')\n",
        "  x_onehot = jax.nn.one_hot(x, vocab_size)\n",
        "  logprobs = data_decode(z_0_rescaled, gamma_0)\n",
        "  logprob = jnp.sum(x_onehot * logprobs, axis=(1, 2))\n",
        "  return logprob\n",
        "\n",
        "def data_generate_x(z_0, gamma_0, rng):\n",
        "  var_0 = nn.sigmoid(gamma_0)\n",
        "  z_0_rescaled = z_0 / jnp.sqrt(1. - var_0)\n",
        "  logits = data_decode(z_0_rescaled, gamma_0)\n",
        "  samples = jax.random.categorical(rng, logits)\n",
        "  return samples\n",
        "\n",
        "# define loss function\n",
        "def loss_fn(params, x, rng):\n",
        "\n",
        "  gamma = lambda t: model.apply(params, t, method=Model.gamma)\n",
        "  gamma_0, gamma_1 = gamma(0.), gamma(1.)\n",
        "  var_0, var_1 = nn.sigmoid(gamma_0), nn.sigmoid(gamma_1)\n",
        "  n_batch = x.shape[0]\n",
        "\n",
        "  # encode\n",
        "  f = data_encode(x)\n",
        "\n",
        "  # 1. RECONSTRUCTION LOSS\n",
        "  # add noise and reconstruct\n",
        "  rng, rng1 = jax.random.split(rng)\n",
        "  eps_0 = jax.random.normal(rng1, shape=f.shape)\n",
        "  z_0 = jnp.sqrt(1. - var_0) * f + jnp.sqrt(var_0) * eps_0\n",
        "  z_0_rescaled = f + jnp.exp(0.5 * gamma_0) * eps_0  # = z_0/sqrt(1-var)\n",
        "  loss_recon = - data_logprob(x, z_0_rescaled, gamma_0)\n",
        "\n",
        "  # 2. LATENT LOSS\n",
        "  # KL z1 with N(0,1) prior\n",
        "  mean1_sqr = (1. - var_1) * jnp.square(f)\n",
        "  loss_klz = 0.5 * jnp.sum(mean1_sqr + var_1 - jnp.log(var_1) - 1., axis=1)\n",
        "\n",
        "  # 3. DIFFUSION LOSS\n",
        "  # sample time steps\n",
        "  rng, rng1 = jax.random.split(rng)\n",
        "  t = jax.random.uniform(rng1, shape=(n_batch,))\n",
        "\n",
        "  # discretize time steps if we're working with discrete time\n",
        "  if T_train > 0:\n",
        "    t = jnp.ceil(t * T_train) / T_train\n",
        "\n",
        "  # sample z_t\n",
        "  gamma_t = gamma(t)\n",
        "  var_t = nn.sigmoid(gamma_t)[:, None]\n",
        "  rng, rng1 = jax.random.split(rng)\n",
        "  eps = jax.random.normal(rng1, shape=f.shape)\n",
        "  z_t = jnp.sqrt(1. - var_t) * f + jnp.sqrt(var_t) * eps\n",
        "  # compute predicted noise\n",
        "  eps_hat = model.apply(params, z_t, gamma_t, method=Model.score)\n",
        "  # compute MSE of predicted noise\n",
        "  loss_diff_mse = jnp.sum(jnp.square(eps - eps_hat), axis=1)\n",
        "\n",
        "  if T_train == 0:\n",
        "    # loss for infinite depth T, i.e. continuous time\n",
        "    _, g_t_grad = jax.jvp(gamma, (t,), (jnp.ones_like(t),))\n",
        "    loss_diff = .5 * g_t_grad * loss_diff_mse\n",
        "  else:\n",
        "    # loss for finite depth T, i.e. discrete time\n",
        "    s = t - (1./T_train)\n",
        "    gamma_s = gamma(s)\n",
        "    loss_diff = .5 * T_train * jnp.expm1(gamma_t - gamma_s) * loss_diff_mse\n",
        "\n",
        "  # End of diffusion loss computation\n",
        "\n",
        "  # Compute loss in terms of bits per dimension\n",
        "  rescale_to_bpd = 1./(np.prod(x.shape[1:]) * np.log(2.))\n",
        "  bpd_latent = jnp.mean(loss_klz) * rescale_to_bpd\n",
        "  bpd_recon = jnp.mean(loss_recon) * rescale_to_bpd\n",
        "  bpd_diff = jnp.mean(loss_diff) * rescale_to_bpd\n",
        "  bpd = bpd_recon + bpd_latent + bpd_diff\n",
        "  loss = bpd\n",
        "  metrics = [bpd_latent, bpd_recon, bpd_diff]\n",
        "  return loss, metrics\n",
        "\n",
        "# define training step\n",
        "@jax.jit\n",
        "def train_step(rng, optim_state, params, x):\n",
        "  grad_fn = jax.value_and_grad(loss_fn, has_aux=True)\n",
        "  rng, rng1 = jax.random.split(rng)\n",
        "  (loss, metrics), grads = grad_fn(params, x, rng1)\n",
        "  updates, optim_state = optimizer.update(grads, optim_state, params)\n",
        "  params = optax.apply_updates(params, updates)\n",
        "  return rng, optim_state, params, loss, metrics\n"
      ],
      "metadata": {
        "id": "AuMUZad-y77d"
      },
      "execution_count": null,
      "outputs": []
    },
    {
      "cell_type": "code",
      "source": [
        "# Initialize model\n",
        "model = Model()\n",
        "rng, rng1, rng2 = jax.random.split(rng, 3)\n",
        "init_inputs = [128*jnp.ones((1, 2)), jnp.zeros((1,))]\n",
        "params = model.init({\"params\": rng1, \"sample\": rng2}, *init_inputs)\n",
        "\n",
        "# initialize optimizer\n",
        "optimizer = optax.adamw(learning_rate)\n",
        "optim_state = optimizer.init(params)"
      ],
      "metadata": {
        "id": "P4AOUO96ym8C"
      },
      "execution_count": null,
      "outputs": []
    },
    {
      "cell_type": "markdown",
      "source": [
        "# Training loop"
      ],
      "metadata": {
        "id": "Jhhcsw0APhbh"
      }
    },
    {
      "cell_type": "code",
      "source": [
        "# training loop (should take ~20 mins)\n",
        "losses = []\n",
        "for i in trange(num_train_steps):\n",
        "  rng, optim_state, params, loss, _metrics = train_step(rng, optim_state, params, x)\n",
        "  losses.append(loss)"
      ],
      "metadata": {
        "id": "Pns1g062qRxV",
        "colab": {
          "base_uri": "https://localhost:8080/",
          "height": 49,
          "referenced_widgets": [
            "dde22095793546bdb036f94f861e8c58",
            "92e33bde08d94d03ad8eec5890687bcf",
            "f5f84e6f281740cc8a871a68ba56f6c2",
            "4bf3cfef6b854d4e96f8ab3fdb66dc6a",
            "cbcec2b2f78e47f684b80fde30335810",
            "9b1466071e1446e9a5f85a2c4a83c5c1",
            "893900dc63cb42dbb174bc5d7e247777",
            "74947632b15c444a811e01d6da2e1efb",
            "6961ab63add94e568dae5bf581a3bb98",
            "4512c6935b264a629683c22709a49caf",
            "69147b7d99d8477191656101313a8767"
          ]
        },
        "outputId": "a46b23ae-9d7f-40d5-af45-d620c62d1798"
      },
      "execution_count": null,
      "outputs": [
        {
          "data": {
            "application/vnd.jupyter.widget-view+json": {
              "model_id": "dde22095793546bdb036f94f861e8c58",
              "version_major": 2,
              "version_minor": 0
            },
            "text/plain": [
              "  0%|          | 0/20000 [00:00<?, ?it/s]"
            ]
          },
          "metadata": {},
          "output_type": "display_data"
        }
      ]
    },
    {
      "cell_type": "markdown",
      "source": [
        "# Plot results"
      ],
      "metadata": {
        "id": "6hNGtF35Pcas"
      }
    },
    {
      "cell_type": "code",
      "source": [
        "plt.plot(losses)"
      ],
      "metadata": {
        "id": "ST-r9xA4ETxq",
        "colab": {
          "base_uri": "https://localhost:8080/"
        },
        "outputId": "a3baa0c6-7b1d-416d-969f-a883faafe09d"
      },
      "execution_count": null,
      "outputs": [
        {
          "output_type": "execute_result",
          "data": {
            "text/plain": [
              "[<matplotlib.lines.Line2D at 0x7f4d1d116310>]"
            ]
          },
          "metadata": {},
          "execution_count": 8
        },
        {
          "output_type": "display_data",
          "data": {
            "text/plain": [
              "<Figure size 432x288 with 1 Axes>"
            ],
            "image/png": "[encoded data removed]"
          },
          "metadata": {
            "needs_background": "light"
          }
        }
      ]
    },
    {
      "cell_type": "code",
      "source": [
        "# Plot the learned endpoints of the noise schedule \n",
        "print('gamma_0', model.apply(params, 0., method=Model.gamma))\n",
        "print('gamma_1', model.apply(params, 1., method=Model.gamma))"
      ],
      "metadata": {
        "id": "OwCKa-WY22sM"
      },
      "execution_count": null,
      "outputs": []
    },
    {
      "cell_type": "code",
      "source": [
        "# define sampling function\n",
        "# t_end is integer between 0 and T_sample\n",
        "def sample_fn(rng, params, N_sample, T_sample):\n",
        "  # sample z_0 from the diffusion model\n",
        "  rng, rng1 = jax.random.split(rng)\n",
        "  z = [jax.random.normal(rng1, (N_sample, 2))]\n",
        "  x_pred = []\n",
        "\n",
        "  for i in trange(T_sample):\n",
        "    rng, rng1 = jax.random.split(rng)\n",
        "    _z, _x_pred = sample_step(i, T_sample, z[-1], rng1)\n",
        "    z.append(_z)\n",
        "    x_pred.append(_x_pred)\n",
        "\n",
        "  gamma_0 = model.apply(params, 0., method=Model.gamma)\n",
        "  x_sample = data_generate_x(z[-1], gamma_0, rng)\n",
        "\n",
        "  return z, x_pred, x_sample\n",
        "\n",
        "def sample_step(i, T_sample, z_t, rng):\n",
        "\n",
        "  eps = jax.random.normal(rng, z_t.shape)\n",
        "\n",
        "  t = (T_sample - i) / T_sample\n",
        "  s = (T_sample - i - 1) / T_sample\n",
        "\n",
        "  gamma_s = model.apply(params, s, method=Model.gamma)\n",
        "  gamma_t = model.apply(params, t, method=Model.gamma)\n",
        "  gamma_s *= jnp.ones((z_t.shape[0],), gamma_t.dtype)\n",
        "  gamma_t *= jnp.ones((z_t.shape[0],), gamma_t.dtype)\n",
        "\n",
        "  eps_hat = model.apply(params, z_t, gamma_t, method=Model.score)\n",
        "  a = nn.sigmoid(-gamma_s)[:,None]\n",
        "  b = nn.sigmoid(-gamma_t)[:,None]\n",
        "  c = - jnp.expm1(gamma_s - gamma_t)[:,None]\n",
        "  sigma_t = jnp.sqrt(nn.sigmoid(gamma_t))[:,None]\n",
        "\n",
        "  z_s = jnp.sqrt(a / b) * (z_t - sigma_t * c * eps_hat) + \\\n",
        "      jnp.sqrt((1. - a) * c) * eps\n",
        "\n",
        "  alpha_t = jnp.sqrt(1 - b)\n",
        "  x_pred = (z_t - sigma_t * eps_hat)/alpha_t\n",
        "\n",
        "  return z_s, x_pred\n"
      ],
      "metadata": {
        "id": "SVU2iHq5C8fy"
      },
      "execution_count": null,
      "outputs": []
    },
    {
      "cell_type": "code",
      "source": [
        "# Generate samples\n",
        "rng, rng1 = jax.random.split(rng)\n",
        "z, x_pred, _ = sample_fn(rng1, params, N_sample=1024, T_sample=200)"
      ],
      "metadata": {
        "id": "O68_1BpfC8f-",
        "colab": {
          "base_uri": "https://localhost:8080/",
          "height": 49,
          "referenced_widgets": [
            "364259398fa5480db83dd549db620376",
            "47c70a609b5044218abf06734dea9bb4",
            "9d08668b15274654bc2fb870f4f5f394",
            "66f508dcc9024a6192dcf6a5c5be1a76",
            "6ca9685d5f5344b9baddfdd7ed446de4",
            "ceb5d692a2474e48809782c0cb57edff",
            "5858dc622b184864bfb9d0507fa42aca",
            "16c7afd6a23f4ad7a3165e244ca7b757",
            "14eecb0d266248f781629ab328673ce7",
            "310758e0cafa4b408fe19907aa5b16a5",
            "8908f155f4ad4beb9a5b23b367f03def"
          ]
        },
        "outputId": "f4c59d3f-fff1-4891-db29-6186a7c2f8ec"
      },
      "execution_count": null,
      "outputs": [
        {
          "output_type": "display_data",
          "data": {
            "text/plain": [
              "  0%|          | 0/200 [00:00<?, ?it/s]"
            ],
            "application/vnd.jupyter.widget-view+json": {
              "version_major": 2,
              "version_minor": 0,
              "model_id": "364259398fa5480db83dd549db620376"
            }
          },
          "metadata": {}
        }
      ]
    },
    {
      "cell_type": "code",
      "source": [
        "# Create square plot:\n",
        "def plot(data, fname=None, color='blue'):\n",
        "  fig = plt.figure()\n",
        "  ax = fig.add_subplot(111)\n",
        "  ax.set_aspect('equal', adjustable='box')\n",
        "  ax.set_xticks([-2,0,2])\n",
        "  ax.set_yticks([-2,0,2])\n",
        "  plt.scatter(data[:,0], data[:,1], alpha=0.1, c=color)\n",
        "  plt.xlim(-2,2)\n",
        "  plt.ylim(-2,2)\n",
        "  if fname != None:\n",
        "    plt.savefig(fname)\n",
        "    files.download(fname) "
      ],
      "metadata": {
        "id": "UaAfsjTKC8f-"
      },
      "execution_count": null,
      "outputs": []
    },
    {
      "cell_type": "code",
      "source": [
        "plot(z[199], 'p_0.pdf')"
      ],
      "metadata": {
        "id": "SbdA_DxJC8f-"
      },
      "execution_count": null,
      "outputs": []
    },
    {
      "cell_type": "code",
      "source": [
        "plot(z[119], 'p_0.4.pdf')"
      ],
      "metadata": {
        "id": "n4rSH--YC8f_"
      },
      "execution_count": null,
      "outputs": []
    },
    {
      "cell_type": "code",
      "source": [
        "plot(z[99], 'p_half.pdf')"
      ],
      "metadata": {
        "id": "UVPlQX4AC8f_",
        "colab": {
          "base_uri": "https://localhost:8080/",
          "height": 269
        },
        "outputId": "da834a9f-e83c-422e-cd24-b8f59b4ae882"
      },
      "execution_count": null,
      "outputs": [
        {
          "output_type": "display_data",
          "data": {
            "text/plain": [
              "<IPython.core.display.Javascript object>"
            ],
            "application/javascript": [
              "\n",
              "    async function download(id, filename, size) {\n",
              "      if (!google.colab.kernel.accessAllowed) {\n",
              "        return;\n",
              "      }\n",
              "      const div = document.createElement('div');\n",
              "      const label = document.createElement('label');\n",
              "      label.textContent = `Downloading \"${filename}\": `;\n",
              "      div.appendChild(label);\n",
              "      const progress = document.createElement('progress');\n",
              "      progress.max = size;\n",
              "      div.appendChild(progress);\n",
              "      document.body.appendChild(div);\n",
              "\n",
              "      const buffers = [];\n",
              "      let downloaded = 0;\n",
              "\n",
              "      const channel = await google.colab.kernel.comms.open(id);\n",
              "      // Send a message to notify the kernel that we're ready.\n",
              "      channel.send({})\n",
              "\n",
              "      for await (const message of channel.messages) {\n",
              "        // Send a message to notify the kernel that we're ready.\n",
              "        channel.send({})\n",
              "        if (message.buffers) {\n",
              "          for (const buffer of message.buffers) {\n",
              "            buffers.push(buffer);\n",
              "            downloaded += buffer.byteLength;\n",
              "            progress.value = downloaded;\n",
              "          }\n",
              "        }\n",
              "      }\n",
              "      const blob = new Blob(buffers, {type: 'application/binary'});\n",
              "      const a = document.createElement('a');\n",
              "      a.href = window.URL.createObjectURL(blob);\n",
              "      a.download = filename;\n",
              "      div.appendChild(a);\n",
              "      a.click();\n",
              "      div.remove();\n",
              "    }\n",
              "  "
            ]
          },
          "metadata": {}
        },
        {
          "output_type": "display_data",
          "data": {
            "text/plain": [
              "<IPython.core.display.Javascript object>"
            ],
            "application/javascript": [
              "download(\"download_b1a02c5b-5b72-4f5c-b602-3520b0221f40\", \"p_half.pdf\", 21353)"
            ]
          },
          "metadata": {}
        },
        {
          "output_type": "display_data",
          "data": {
            "text/plain": [
              "<Figure size 432x288 with 1 Axes>"
            ],
            "image/png": "[encoded data removed]"
          },
          "metadata": {
            "needs_background": "light"
          }
        }
      ]
    },
    {
      "cell_type": "code",
      "source": [
        "plot(z[0], 'p_1.pdf')"
      ],
      "metadata": {
        "id": "iAvcCriXC8f_"
      },
      "execution_count": null,
      "outputs": []
    },
    {
      "cell_type": "code",
      "source": [
        "def sample_q_t(rng, t, x):\n",
        "  f = data_encode(x)\n",
        "  gamma_t = model.apply(params, t, method=Model.gamma)\n",
        "  var_t = nn.sigmoid(gamma_t)[:, None]\n",
        "  eps = jax.random.normal(rng, shape=x.shape)\n",
        "  z_t = jnp.sqrt(1. - var_t) * f + jnp.sqrt(var_t) * eps\n",
        "  return z_t"
      ],
      "metadata": {
        "id": "0QGhWrOvC8f_"
      },
      "execution_count": null,
      "outputs": []
    },
    {
      "cell_type": "code",
      "source": [
        "# Create Q plots\n",
        "rng, rng1 = jax.random.split(rng)\n",
        "plot(sample_q_t(rng, 0, x), 'q_0.pdf', color='red')"
      ],
      "metadata": {
        "id": "vEUBm-QHC8gA"
      },
      "execution_count": null,
      "outputs": []
    },
    {
      "cell_type": "code",
      "source": [
        "rng, rng1 = jax.random.split(rng)\n",
        "plot(sample_q_t(rng, .4, x), 'q_.4.pdf', color='red')"
      ],
      "metadata": {
        "id": "F7Kl-dKcDjO8",
        "colab": {
          "base_uri": "https://localhost:8080/",
          "height": 269
        },
        "outputId": "d88a7212-750c-4fa2-ab12-fb392c44a38c"
      },
      "execution_count": null,
      "outputs": [
        {
          "output_type": "display_data",
          "data": {
            "text/plain": [
              "<IPython.core.display.Javascript object>"
            ],
            "application/javascript": [
              "\n",
              "    async function download(id, filename, size) {\n",
              "      if (!google.colab.kernel.accessAllowed) {\n",
              "        return;\n",
              "      }\n",
              "      const div = document.createElement('div');\n",
              "      const label = document.createElement('label');\n",
              "      label.textContent = `Downloading \"${filename}\": `;\n",
              "      div.appendChild(label);\n",
              "      const progress = document.createElement('progress');\n",
              "      progress.max = size;\n",
              "      div.appendChild(progress);\n",
              "      document.body.appendChild(div);\n",
              "\n",
              "      const buffers = [];\n",
              "      let downloaded = 0;\n",
              "\n",
              "      const channel = await google.colab.kernel.comms.open(id);\n",
              "      // Send a message to notify the kernel that we're ready.\n",
              "      channel.send({})\n",
              "\n",
              "      for await (const message of channel.messages) {\n",
              "        // Send a message to notify the kernel that we're ready.\n",
              "        channel.send({})\n",
              "        if (message.buffers) {\n",
              "          for (const buffer of message.buffers) {\n",
              "            buffers.push(buffer);\n",
              "            downloaded += buffer.byteLength;\n",
              "            progress.value = downloaded;\n",
              "          }\n",
              "        }\n",
              "      }\n",
              "      const blob = new Blob(buffers, {type: 'application/binary'});\n",
              "      const a = document.createElement('a');\n",
              "      a.href = window.URL.createObjectURL(blob);\n",
              "      a.download = filename;\n",
              "      div.appendChild(a);\n",
              "      a.click();\n",
              "      div.remove();\n",
              "    }\n",
              "  "
            ]
          },
          "metadata": {}
        },
        {
          "output_type": "display_data",
          "data": {
            "text/plain": [
              "<IPython.core.display.Javascript object>"
            ],
            "application/javascript": [
              "download(\"download_9857a354-5918-4071-bf77-f638745d5153\", \"q_.4.pdf\", 21327)"
            ]
          },
          "metadata": {}
        },
        {
          "output_type": "display_data",
          "data": {
            "text/plain": [
              "<Figure size 432x288 with 1 Axes>"
            ],
            "image/png": "[encoded data removed]"
          },
          "metadata": {
            "needs_background": "light"
          }
        }
      ]
    },
    {
      "cell_type": "code",
      "source": [
        "rng, rng1 = jax.random.split(rng)\n",
        "plot(sample_q_t(rng, .5, x), 'q_half.pdf', color='red')"
      ],
      "metadata": {
        "id": "p3mKCnW8C8gA"
      },
      "execution_count": null,
      "outputs": []
    },
    {
      "cell_type": "code",
      "source": [
        "rng, rng1 = jax.random.split(rng)\n",
        "plot(sample_q_t(rng, 1, x), 'q_1.pdf', color='red')"
      ],
      "metadata": {
        "id": "jlVtQivSC8gA"
      },
      "execution_count": null,
      "outputs": []
    },
    {
      "cell_type": "code",
      "source": [
        "def f_eps_hat(t, z_t):\n",
        "  gamma_t = model.apply(params, t, method=Model.gamma)\n",
        "  gamma_t *= jnp.ones((z_t.shape[0],), gamma_t.dtype)\n",
        "  eps_hat = model.apply(params, z_t, gamma_t, method=Model.score)\n",
        "  return eps_hat\n",
        "\n",
        "# Vector field\n",
        "def vector_field(t, z, fname):\n",
        "  eps_hat = f_eps_hat(t, z)\n",
        "  fig = plt.figure()\n",
        "  ax = fig.add_subplot(111)\n",
        "  ax.set_aspect('equal', adjustable='box')\n",
        "  ax.set_xticks([-2,0,2])\n",
        "  ax.set_yticks([-2,0,2])\n",
        "  plt.quiver(z[:,0], z[:,1], -eps_hat[:,0], -eps_hat[:,1], width=.005)\n",
        "  plt.xlim(-2,2)\n",
        "  plt.ylim(-2,2)\n",
        "  if fname != None:\n",
        "    plt.savefig(fname)\n",
        "    files.download(fname) \n",
        "\n",
        "vector_field(.5, z[99], 'vec_z_.5.pdf')"
      ],
      "metadata": {
        "id": "tYKPPnOtDTB6"
      },
      "execution_count": null,
      "outputs": []
    },
    {
      "cell_type": "code",
      "source": [
        "# Create coordinate\n",
        "_x = np.arange(-1.9, 1.9, 0.2)\n",
        "_y = np.arange(-1.9, 1.9, 0.2)\n",
        "_xs, _ys = np.meshgrid(_x, _y)\n",
        "z_mesh = np.concatenate([_xs.flatten()[:,None],_ys.flatten()[:,None]], axis=1)"
      ],
      "metadata": {
        "id": "lZYgdNZOM_m-"
      },
      "execution_count": null,
      "outputs": []
    },
    {
      "cell_type": "code",
      "source": [
        "vector_field(.5, z_mesh, 'vec_mesh_.5.pdf')"
      ],
      "metadata": {
        "id": "DOqIdqQsOBMs",
        "colab": {
          "base_uri": "https://localhost:8080/",
          "height": 269
        },
        "outputId": "83b0af99-471c-4de0-b424-9801411dc50c"
      },
      "execution_count": null,
      "outputs": [
        {
          "output_type": "display_data",
          "data": {
            "text/plain": [
              "<IPython.core.display.Javascript object>"
            ],
            "application/javascript": [
              "\n",
              "    async function download(id, filename, size) {\n",
              "      if (!google.colab.kernel.accessAllowed) {\n",
              "        return;\n",
              "      }\n",
              "      const div = document.createElement('div');\n",
              "      const label = document.createElement('label');\n",
              "      label.textContent = `Downloading \"${filename}\": `;\n",
              "      div.appendChild(label);\n",
              "      const progress = document.createElement('progress');\n",
              "      progress.max = size;\n",
              "      div.appendChild(progress);\n",
              "      document.body.appendChild(div);\n",
              "\n",
              "      const buffers = [];\n",
              "      let downloaded = 0;\n",
              "\n",
              "      const channel = await google.colab.kernel.comms.open(id);\n",
              "      // Send a message to notify the kernel that we're ready.\n",
              "      channel.send({})\n",
              "\n",
              "      for await (const message of channel.messages) {\n",
              "        // Send a message to notify the kernel that we're ready.\n",
              "        channel.send({})\n",
              "        if (message.buffers) {\n",
              "          for (const buffer of message.buffers) {\n",
              "            buffers.push(buffer);\n",
              "            downloaded += buffer.byteLength;\n",
              "            progress.value = downloaded;\n",
              "          }\n",
              "        }\n",
              "      }\n",
              "      const blob = new Blob(buffers, {type: 'application/binary'});\n",
              "      const a = document.createElement('a');\n",
              "      a.href = window.URL.createObjectURL(blob);\n",
              "      a.download = filename;\n",
              "      div.appendChild(a);\n",
              "      a.click();\n",
              "      div.remove();\n",
              "    }\n",
              "  "
            ]
          },
          "metadata": {}
        },
        {
          "output_type": "display_data",
          "data": {
            "text/plain": [
              "<IPython.core.display.Javascript object>"
            ],
            "application/javascript": [
              "download(\"download_eca52aaa-65d9-4c8b-ae20-4e9f10f8d793\", \"vec_mesh_.5.pdf\", 31972)"
            ]
          },
          "metadata": {}
        },
        {
          "output_type": "display_data",
          "data": {
            "text/plain": [
              "<Figure size 432x288 with 1 Axes>"
            ],
            "image/png": "[encoded data removed]"
          },
          "metadata": {
            "needs_background": "light"
          }
        }
      ]
    },
    {
      "cell_type": "code",
      "source": [
        "vector_field(0.0, z_mesh, 'vec_mesh_0.pdf')"
      ],
      "metadata": {
        "id": "Su5plHa3R3Jb"
      },
      "execution_count": null,
      "outputs": []
    },
    {
      "cell_type": "code",
      "source": [
        "vector_field(1., z_mesh, 'vec_mesh_1.pdf')"
      ],
      "metadata": {
        "id": "vRKe4r-GR5oC"
      },
      "execution_count": null,
      "outputs": []
    },
    {
      "cell_type": "code",
      "source": [
        "vector_field(.0, z[199], 'vec_z_0.pdf')"
      ],
      "metadata": {
        "id": "POly9qQLR9ZH"
      },
      "execution_count": null,
      "outputs": []
    },
    {
      "cell_type": "code",
      "source": [
        "vector_field(.5, z[99], 'vec_z_.5.pdf')"
      ],
      "metadata": {
        "id": "8gzWV9w3UHtd"
      },
      "execution_count": null,
      "outputs": []
    },
    {
      "cell_type": "code",
      "source": [
        "vector_field(1., z[0], 'vec_z_1.pdf')"
      ],
      "metadata": {
        "id": "n1uLtAmdV7vx"
      },
      "execution_count": null,
      "outputs": []
    },
    {
      "cell_type": "code",
      "source": [],
      "metadata": {
        "id": "DnOdlfrcV-Mc"
      },
      "execution_count": null,
      "outputs": []
    }
  ]
}